{
 "cells": [
  {
   "cell_type": "code",
   "execution_count": 1,
   "id": "df0c8e08-65ba-42d8-a346-123c9167306c",
   "metadata": {},
   "outputs": [],
   "source": [
    "#site i, #participant j, feature g\n",
    "\n",
    "from spicy import stats\n",
    "import numpy as np\n",
    "import pandas as pd\n",
    "\n",
    "np.random.seed(666)\n",
    "#sample size is 5000\n",
    "N=5000\n",
    "#the number of features is 1000.\n",
    "G=10\n",
    "#10 sites\n",
    "I=10"
   ]
  },
  {
   "cell_type": "code",
   "execution_count": 6,
   "id": "744370a6-6214-4a9c-91da-7e1759a26efb",
   "metadata": {},
   "outputs": [],
   "source": [
    "#for sample size in each site\n",
    "alpha=np.random.randint(1, 21, size=I)\n",
    "p = np.random.dirichlet(alpha)\n",
    "\n",
    "#sample size of site i\n",
    "n_i=(N*p).round(0).astype(int)\n",
    "\n",
    "###\n",
    "\n",
    "alpha_g = np.random.uniform(0, 0.5,G)\n",
    "\n",
    "Y_i=np.random.uniform(0,0.1,I)\n",
    "tau_i=stats.invgamma.rvs(a=2, scale=0.5,size=I)\n",
    "df = pd.DataFrame({'Y_i': Y_i, 'tau_i': tau_i})\n",
    "gamma_ig=df.apply(lambda x: stats.norm.rvs(loc=x['Y_i'], scale=np.sqrt(x['tau_i']), size=G), axis=1)\n",
    "\n",
    "lambda_i=stats.gamma.rvs(a=50,scale=50,size=I)\n",
    "v_i=stats.gamma.rvs(a=50,scale=1,size=I)\n",
    "df1=pd.DataFrame({'lambda_i':lambda_i,'v_i':v_i})\n",
    "delta_ig=df1.apply(lambda x:stats.gamma.rvs(a=x['lambda_i']*x['v_i'],scale=x['v_i'],size=G),axis=1)\n",
    "\n",
    "sigma_g=stats.halfcauchy.rvs(scale=0.2, size=G)\n",
    "df2=pd.DataFrame({'sigma_g':sigma_g,'n':n_i})\n",
    "epsilon_ijg = df2.apply(lambda x: stats.norm.rvs(loc=0, scale=x['sigma_g'], size=int(x['n'])), axis=1)\n"
   ]
  },
  {
   "cell_type": "code",
   "execution_count": null,
   "id": "8e760566-a2ce-43bd-82d5-d1961334124e",
   "metadata": {},
   "outputs": [],
   "source": [
    "#covariates age and sex"
   ]
  }
 ],
 "metadata": {
  "kernelspec": {
   "display_name": "Python 3 (ipykernel)",
   "language": "python",
   "name": "python3"
  },
  "language_info": {
   "codemirror_mode": {
    "name": "ipython",
    "version": 3
   },
   "file_extension": ".py",
   "mimetype": "text/x-python",
   "name": "python",
   "nbconvert_exporter": "python",
   "pygments_lexer": "ipython3",
   "version": "3.12.7"
  }
 },
 "nbformat": 4,
 "nbformat_minor": 5
}
