{
 "cells": [
  {
   "cell_type": "code",
   "execution_count": null,
   "id": "81e2e0a9-8536-40e4-8a9d-73f269731fd3",
   "metadata": {},
   "outputs": [],
   "source": [
    "#site i, #participant j, feature g\n",
    "\n",
    "from spicy import stats\n",
    "import numpy as np\n",
    "import pandas as pd\n",
    "\n",
    "np.random.seed(666)\n",
    "#Total sample size (sum of all sites) is 5000\n",
    "N=5000\n",
    "#the number of features is 1000.\n",
    "G=10\n",
    "#10 sites\n",
    "I=10\n",
    "#for sample size in each site\n",
    "alpha=np.random.randint(1, 21, size=I)\n",
    "p = np.random.dirichlet(alpha)\n",
    "\n",
    "#sample size of site i\n",
    "n_i=(N*p).round(0).astype(int)\n"
   ]
  },
  {
   "cell_type": "code",
   "execution_count": null,
   "id": "bd778bef-696d-4a81-a6c5-21b847f402f0",
   "metadata": {},
   "outputs": [],
   "source": [
    "#This section will be the same for both the homogeneous and heterogeneous versions.\n",
    "\n",
    "###\n",
    "\n",
    "alpha_g = np.random.uniform(0, 0.5,G)\n",
    "\n",
    "Y_i=np.random.uniform(0,0.1,I)\n",
    "tau_i=stats.invgamma.rvs(a=2, scale=0.5,size=I)\n",
    "df = pd.DataFrame({'Y_i': Y_i, 'tau_i': tau_i})\n",
    "gamma_ig=df.apply(lambda x: stats.norm.rvs(loc=x['Y_i'], scale=np.sqrt(x['tau_i']), size=G), axis=1)\n",
    "\n",
    "lambda_i=stats.gamma.rvs(a=50,scale=50,size=I)\n",
    "v_i=stats.gamma.rvs(a=50,scale=1,size=I)\n",
    "df1=pd.DataFrame({'lambda_i':lambda_i,'v_i':v_i})\n",
    "delta_ig=df1.apply(lambda x:stats.gamma.rvs(a=x['lambda_i']*x['v_i'],scale=x['v_i'],size=G),axis=1)\n",
    "\n",
    "sigma_g=stats.halfcauchy.rvs(scale=0.2, size=G)\n",
    "df2=pd.DataFrame({'sigma_g':sigma_g,'n':n_i})\n",
    "epsilon_ijg = df2.apply(lambda x: stats.norm.rvs(loc=0, scale=x['sigma_g'], size=int(x['n'])), axis=1)\n"
   ]
  },
  {
   "cell_type": "code",
   "execution_count": null,
   "id": "5801a8ee-7524-466c-ad25-2d809e19d760",
   "metadata": {},
   "outputs": [],
   "source": [
    "#sex follows a binomial distribution where p is a random number selected from Uniform(0.2,0.8)\n",
    "p=[np.random.uniform(0.2,0.8,n) for n in n_i]\n",
    "sex=[]#it is a list with 10 entries, where each entry contains generated data for one site\n",
    "age=[]#it is a list with 10 entries, where each entry contains generated data for one site\n",
    "mu_age=np.random.uniform(10,90,I)\n",
    "i=0\n",
    "for n in n_i:\n",
    "    #covariates sex\n",
    "    #for site i with n_i samples, the probability of male is equal to female as 50%.\n",
    "    v1=np.random.binomial(n=1, p=p[i], size=n)\n",
    "    sex.append(v1)\n",
    "    #covariate age\n",
    "    mu=mu_age[i]\n",
    "    a=mu/3-5\n",
    "    b=mu/3+5\n",
    "    sd=np.random.uniform(a,b,1)\n",
    "    #by reading the median of all boxplots, I guess the mean to be 40 and 10 for sd.\n",
    "    v2=stats.norm.rvs(loc=mu, scale=sd, size=n)\n",
    "    age.append(v2)\n",
    "    i+=1\n"
   ]
  }
 ],
 "metadata": {
  "kernelspec": {
   "display_name": "Python 3 (ipykernel)",
   "language": "python",
   "name": "python3"
  },
  "language_info": {
   "codemirror_mode": {
    "name": "ipython",
    "version": 3
   },
   "file_extension": ".py",
   "mimetype": "text/x-python",
   "name": "python",
   "nbconvert_exporter": "python",
   "pygments_lexer": "ipython3",
   "version": "3.12.7"
  }
 },
 "nbformat": 4,
 "nbformat_minor": 5
}
